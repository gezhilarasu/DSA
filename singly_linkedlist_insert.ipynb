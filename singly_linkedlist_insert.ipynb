{
 "cells": [
  {
   "cell_type": "code",
   "execution_count": 27,
   "id": "aeaef4a3-ca46-4ad3-a8fc-1c056378397b",
   "metadata": {},
   "outputs": [
    {
     "name": "stdin",
     "output_type": "stream",
     "text": [
      "Enter the insert position 2\n",
      "Enter the insert position 4\n"
     ]
    },
    {
     "name": "stdout",
     "output_type": "stream",
     "text": [
      "10 -> 20 -> 25 -> 30 -> 35 -> 40 -> 50 -> "
     ]
    }
   ],
   "source": [
    "#create node which contains data,reference of next node\n",
    "class node:\n",
    "    def __init__(self,data):\n",
    "        self.data=data\n",
    "        self.ref=None\n",
    "#create linkedlist to add the element in the begin and display it\n",
    "class linkedlist:\n",
    "    def __init__(self):\n",
    "        self.head=None\n",
    "    def add_begin(self,data):\n",
    "        new_node=node(data)  #create object for the node\n",
    "        new_node.ref=self.head\n",
    "        self.head=new_node\n",
    "\n",
    "    def add_end(self,data):\n",
    "        new_node=node(data)\n",
    "        if self.head is None:\n",
    "            self.head=new_node\n",
    "            new_node.ref=None\n",
    "        else:\n",
    "            n=self.head\n",
    "            while n.ref is not None:\n",
    "                n=n.ref\n",
    "            n.ref=new_node\n",
    "\n",
    "    def add_middle(self,data):\n",
    "        new_node=node(data)\n",
    "        new_node.ref=None\n",
    "        insert_position=int(input(\"Enter the insert position\"))\n",
    "        n=self.head\n",
    "        for i in range(0,insert_position-1):\n",
    "            n=n.ref\n",
    "        new_node.ref=n.ref\n",
    "        n.ref=new_node\n",
    "                        \n",
    "            \n",
    "    def display(self):\n",
    "        if self.head is None:\n",
    "            print(\"There is no linked list\")\n",
    "        else:\n",
    "            n=self.head\n",
    "            while(n is not None):\n",
    "                print(n.data,\"->\",end=\" \")\n",
    "                n=n.ref\n",
    "nodes=linkedlist()\n",
    "nodes.add_begin(40)\n",
    "nodes.add_begin(30)\n",
    "nodes.add_begin(20)\n",
    "nodes.add_begin(10)\n",
    "nodes.add_end(50)\n",
    "nodes.add_middle(25)\n",
    "nodes.add_middle(35)\n",
    "nodes.display()\n",
    "\n",
    "#add 40\n",
    "#add 30 at the beginning\n",
    "#add 20 at the beginning\n",
    "#add 10 at the beginning\n",
    "#add 50 at the end\n"
   ]
  },
  {
   "cell_type": "code",
   "execution_count": null,
   "id": "acc4d078-868c-41ff-810e-2266182014f0",
   "metadata": {},
   "outputs": [],
   "source": []
  },
  {
   "cell_type": "code",
   "execution_count": null,
   "id": "82be0c77-fd29-493e-9b73-1f0c6c170c58",
   "metadata": {},
   "outputs": [],
   "source": []
  }
 ],
 "metadata": {
  "kernelspec": {
   "display_name": "Python 3 (ipykernel)",
   "language": "python",
   "name": "python3"
  },
  "language_info": {
   "codemirror_mode": {
    "name": "ipython",
    "version": 3
   },
   "file_extension": ".py",
   "mimetype": "text/x-python",
   "name": "python",
   "nbconvert_exporter": "python",
   "pygments_lexer": "ipython3",
   "version": "3.11.7"
  }
 },
 "nbformat": 4,
 "nbformat_minor": 5
}
