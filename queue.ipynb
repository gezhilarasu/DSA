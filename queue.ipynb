{
 "cells": [
  {
   "cell_type": "code",
   "execution_count": 2,
   "id": "66a88003-b76b-43be-8d4b-95f3fae64691",
   "metadata": {},
   "outputs": [
    {
     "name": "stdout",
     "output_type": "stream",
     "text": [
      "Enter 1 for append. Enter 2 for pop. Enter 3 for display. Enter 4 for quit\n"
     ]
    },
    {
     "name": "stdin",
     "output_type": "stream",
     "text": [
      " 1\n",
      "Enter the value 10\n"
     ]
    },
    {
     "name": "stdout",
     "output_type": "stream",
     "text": [
      "Enter 1 for append. Enter 2 for pop. Enter 3 for display. Enter 4 for quit\n"
     ]
    },
    {
     "name": "stdin",
     "output_type": "stream",
     "text": [
      " 1\n",
      "Enter the value 20\n"
     ]
    },
    {
     "name": "stdout",
     "output_type": "stream",
     "text": [
      "Enter 1 for append. Enter 2 for pop. Enter 3 for display. Enter 4 for quit\n"
     ]
    },
    {
     "name": "stdin",
     "output_type": "stream",
     "text": [
      " 1\n",
      "Enter the value 30\n"
     ]
    },
    {
     "name": "stdout",
     "output_type": "stream",
     "text": [
      "Enter 1 for append. Enter 2 for pop. Enter 3 for display. Enter 4 for quit\n"
     ]
    },
    {
     "name": "stdin",
     "output_type": "stream",
     "text": [
      " 1\n",
      "Enter the value 40\n"
     ]
    },
    {
     "name": "stdout",
     "output_type": "stream",
     "text": [
      "Enter 1 for append. Enter 2 for pop. Enter 3 for display. Enter 4 for quit\n"
     ]
    },
    {
     "name": "stdin",
     "output_type": "stream",
     "text": [
      " 2\n"
     ]
    },
    {
     "name": "stdout",
     "output_type": "stream",
     "text": [
      "Removed element is  10\n",
      "['20', '30', '40']\n",
      "Enter 1 for append. Enter 2 for pop. Enter 3 for display. Enter 4 for quit\n"
     ]
    },
    {
     "name": "stdin",
     "output_type": "stream",
     "text": [
      " 2\n"
     ]
    },
    {
     "name": "stdout",
     "output_type": "stream",
     "text": [
      "Removed element is  20\n",
      "['30', '40']\n",
      "Enter 1 for append. Enter 2 for pop. Enter 3 for display. Enter 4 for quit\n"
     ]
    },
    {
     "name": "stdin",
     "output_type": "stream",
     "text": [
      " 3\n"
     ]
    },
    {
     "name": "stdout",
     "output_type": "stream",
     "text": [
      "['30', '40']\n",
      "Enter 1 for append. Enter 2 for pop. Enter 3 for display. Enter 4 for quit\n"
     ]
    },
    {
     "name": "stdin",
     "output_type": "stream",
     "text": [
      " 4\n"
     ]
    }
   ],
   "source": [
    "queue=[]\n",
    "def enqueue():\n",
    "    element=input(\"Enter the value\")\n",
    "    queue.append(element)\n",
    "def dequeue():\n",
    "    if not queue:\n",
    "        print(\"It is empty\")\n",
    "        print(queue)\n",
    "    else:\n",
    "        remove=queue.pop(0)\n",
    "        print(\"Removed element is \",remove)\n",
    "        print(queue)\n",
    "def display():\n",
    "    print(queue)\n",
    "while True:\n",
    "    print(\"Enter 1 for append. Enter 2 for pop. Enter 3 for display. Enter 4 for quit\")\n",
    "    choice=int(input())\n",
    "    if choice==1:\n",
    "        enqueue()\n",
    "    elif choice==2:\n",
    "        dequeue()\n",
    "    elif choice==3:\n",
    "        display()\n",
    "    elif choice==4:\n",
    "        break\n",
    "    else:\n",
    "        print(\"Enter the correct choice\")"
   ]
  },
  {
   "cell_type": "code",
   "execution_count": null,
   "id": "f1d0d00b-b2c5-4c46-bb96-8c27a5d2221b",
   "metadata": {},
   "outputs": [],
   "source": []
  }
 ],
 "metadata": {
  "kernelspec": {
   "display_name": "Python 3 (ipykernel)",
   "language": "python",
   "name": "python3"
  },
  "language_info": {
   "codemirror_mode": {
    "name": "ipython",
    "version": 3
   },
   "file_extension": ".py",
   "mimetype": "text/x-python",
   "name": "python",
   "nbconvert_exporter": "python",
   "pygments_lexer": "ipython3",
   "version": "3.11.7"
  }
 },
 "nbformat": 4,
 "nbformat_minor": 5
}
