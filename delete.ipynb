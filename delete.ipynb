{
 "cells": [
  {
   "cell_type": "code",
   "execution_count": 7,
   "id": "c22deecb-9919-433a-99c8-d1aea1afbd1c",
   "metadata": {},
   "outputs": [
    {
     "name": "stdin",
     "output_type": "stream",
     "text": [
      "Enter the insert position 2\n",
      "Enter the insert position 4\n"
     ]
    },
    {
     "name": "stdout",
     "output_type": "stream",
     "text": [
      "10 -> 20 -> 25 -> 30 -> 35 -> 40 -> 50 -> "
     ]
    },
    {
     "name": "stdin",
     "output_type": "stream",
     "text": [
      "Enter the position be be deleted:  3\n"
     ]
    },
    {
     "name": "stdout",
     "output_type": "stream",
     "text": [
      "10 -> 20 -> 25 -> 35 -> 40 -> 50 -> "
     ]
    }
   ],
   "source": [
    "#create node which contains data,reference of next node\n",
    "class node:\n",
    "    def __init__(self,data):\n",
    "        self.data=data\n",
    "        self.ref=None\n",
    "#create linkedlist to add the element in the begin and display it\n",
    "class linkedlist:\n",
    "    def __init__(self):\n",
    "        self.head=None\n",
    "    def add_begin(self,data):\n",
    "        new_node=node(data)  #create object for the node\n",
    "        new_node.ref=self.head\n",
    "        self.head=new_node\n",
    "\n",
    "    def add_end(self,data):\n",
    "        new_node=node(data)\n",
    "        if self.head is None:\n",
    "            self.head=new_node\n",
    "            new_node.ref=None\n",
    "        else:\n",
    "            n=self.head\n",
    "            while n.ref is not None:\n",
    "                n=n.ref\n",
    "            n.ref=new_node\n",
    "\n",
    "    def add_middle(self,data):\n",
    "        new_node=node(data)\n",
    "        new_node.ref=None\n",
    "        insert_position=int(input(\"Enter the insert position\"))\n",
    "        n=self.head\n",
    "        for i in range(0,insert_position-1):\n",
    "            n=n.ref\n",
    "        new_node.ref=n.ref\n",
    "        n.ref=new_node\n",
    "    def delete_begin(self):##Delete at beginning\n",
    "        if self.head is None:\n",
    "            print(\"The node is empty.so can not delete it\")\n",
    "        else:\n",
    "            self.head=self.head.ref\n",
    "    def delete_end(self):\n",
    "        if self.head is None:\n",
    "            print(\"The node is empty.so can not detele it\")\n",
    "        else:\n",
    "            curr=self.head\n",
    "            prev=None\n",
    "            while curr.ref is not None:\n",
    "                prev=curr\n",
    "                curr=curr.ref\n",
    "    def delete_middle(self):\n",
    "        delete_position=int(input(\"Enter the position be be deleted: \"))\n",
    "        if self.head is None:\n",
    "            print(\"The node is empty.so can not detele it\")\n",
    "        else:\n",
    "            curr=self.head\n",
    "            prev=None\n",
    "            for i in range(delete_position):\n",
    "                prev=curr\n",
    "                curr=curr.ref\n",
    "            prev.ref=curr.ref\n",
    "            \n",
    "    def display(self):\n",
    "        if self.head is None:\n",
    "            print(\"There is no linked list\")\n",
    "        else:\n",
    "            n=self.head\n",
    "            while(n is not None):\n",
    "                print(n.data,\"->\",end=\" \")\n",
    "                n=n.ref\n",
    "nodes=linkedlist()\n",
    "nodes.add_begin(40)\n",
    "nodes.add_begin(30)\n",
    "nodes.add_begin(20)\n",
    "nodes.add_begin(10)\n",
    "nodes.add_end(50)\n",
    "nodes.add_middle(25)\n",
    "nodes.add_middle(35)\n",
    "nodes.display()\n",
    "nodes.delete_middle()\n",
    "nodes.display()\n",
    "\n",
    "#add 40\n",
    "#add 30 at the beginning\n",
    "#add 20 at the beginning\n",
    "#add 10 at the beginning\n",
    "#add 50 at the end"
   ]
  },
  {
   "cell_type": "code",
   "execution_count": null,
   "id": "72a765eb-62c8-4754-81f7-9e4fe3eb2335",
   "metadata": {},
   "outputs": [],
   "source": []
  }
 ],
 "metadata": {
  "kernelspec": {
   "display_name": "Python 3 (ipykernel)",
   "language": "python",
   "name": "python3"
  },
  "language_info": {
   "codemirror_mode": {
    "name": "ipython",
    "version": 3
   },
   "file_extension": ".py",
   "mimetype": "text/x-python",
   "name": "python",
   "nbconvert_exporter": "python",
   "pygments_lexer": "ipython3",
   "version": "3.11.7"
  }
 },
 "nbformat": 4,
 "nbformat_minor": 5
}
