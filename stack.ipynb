{
 "cells": [
  {
   "cell_type": "code",
   "execution_count": 1,
   "id": "c57199e3-03ed-41e9-a33e-4a32c04cf227",
   "metadata": {},
   "outputs": [
    {
     "name": "stdout",
     "output_type": "stream",
     "text": [
      "enter 1 for push. enter 2 for pop. enter 3 for quit\n"
     ]
    },
    {
     "name": "stdin",
     "output_type": "stream",
     "text": [
      " 1\n",
      "enter the number 20\n"
     ]
    },
    {
     "name": "stdout",
     "output_type": "stream",
     "text": [
      "['20']\n",
      "enter 1 for push. enter 2 for pop. enter 3 for quit\n"
     ]
    },
    {
     "name": "stdin",
     "output_type": "stream",
     "text": [
      " 1\n",
      "enter the number 30\n"
     ]
    },
    {
     "name": "stdout",
     "output_type": "stream",
     "text": [
      "['20', '30']\n",
      "enter 1 for push. enter 2 for pop. enter 3 for quit\n"
     ]
    },
    {
     "name": "stdin",
     "output_type": "stream",
     "text": [
      " 1\n",
      "enter the number 20\n"
     ]
    },
    {
     "name": "stdout",
     "output_type": "stream",
     "text": [
      "['20', '30', '20']\n",
      "enter 1 for push. enter 2 for pop. enter 3 for quit\n"
     ]
    },
    {
     "name": "stdin",
     "output_type": "stream",
     "text": [
      " 3\n"
     ]
    }
   ],
   "source": [
    "def push():\n",
    "    element =input(\"enter the number\")\n",
    "    stack.append(element)\n",
    "    print(stack)\n",
    "def pop():\n",
    "    if not stack:\n",
    "        print(\"the stack is empty\")\n",
    "    else:\n",
    "        element =stack.pop()\n",
    "        print(\"the removed element is \",element)\n",
    "stack=[]\n",
    "while True:\n",
    "    print(\"enter 1 for push. enter 2 for pop. enter 3 for quit\")\n",
    "    choice=int(input())\n",
    "    if choice==1:\n",
    "        push()\n",
    "    elif choice==2:\n",
    "        pop()\n",
    "    elif choice==3:\n",
    "        break;\n",
    "    else:\n",
    "        print(\"Enter the correct number\")"
   ]
  },
  {
   "cell_type": "code",
   "execution_count": null,
   "id": "10dd84ec-0b78-4fd8-85ba-ec56dc40f5bc",
   "metadata": {},
   "outputs": [],
   "source": []
  }
 ],
 "metadata": {
  "kernelspec": {
   "display_name": "Python 3 (ipykernel)",
   "language": "python",
   "name": "python3"
  },
  "language_info": {
   "codemirror_mode": {
    "name": "ipython",
    "version": 3
   },
   "file_extension": ".py",
   "mimetype": "text/x-python",
   "name": "python",
   "nbconvert_exporter": "python",
   "pygments_lexer": "ipython3",
   "version": "3.11.7"
  }
 },
 "nbformat": 4,
 "nbformat_minor": 5
}
